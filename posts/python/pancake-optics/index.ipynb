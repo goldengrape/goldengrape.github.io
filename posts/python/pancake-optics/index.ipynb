{
 "cells": [
  {
   "cell_type": "markdown",
   "metadata": {},
   "source": [
    "Facebook发了一篇[非常华丽的paper](https://research.fb.com/blog/2020/06/holographic-optics-for-thin-and-lightweight-virtual-reality/), 里面用全息(Holographic, 原教旨意义的全息, 不是各种市场部吹嘘的引申假借)做了一个超薄的VR眼镜. \n",
    "\n",
    "![Holographic-optics](https://research.fb.com/wp-content/uploads/2020/06/Holographic-optics_hero.png)\n",
    "\n",
    "完全是一副未来已来的样子.\n",
    "\n",
    "不过我在看文献的时候, 却对里面回顾的另一个光路很感兴趣. \n",
    "\n",
    "![](https://i.loli.net/2020/07/01/jEaQNwtJFv2MspS.png)\n",
    "\n",
    "这个光路令光线往返了3次, 可以将光程缩短为原来的1/3, 当然也是有代价的, 代价是亮度降低到原来的25%, 不过看起来很有趣, 而且是一种通用的方案, 在其他的光路设计上也很有可能使用到. 同时, 对于其中元件的微小移动都可能造成3倍的光程变化, 对于调焦可能也很有用. \n",
    "\n",
    "于是我就决定用Jones矢量和Jones矩阵推导一下, 看看光路中到底发生了什么. \n",
    "\n",
    "<!-- TEASER_END -->"
   ]
  },
  {
   "cell_type": "markdown",
   "metadata": {},
   "source": [
    "# Jones矢量与Jones矩阵\n",
    "\n",
    "以下使用sympy进行符号运算\n",
    "* 关于[sympy的详细文档](https://docs.sympy.org/latest/index.html)\n",
    "* 快速中文入门参考[用Python做科学计算](http://bigsec.net/b52/scipydoc/sympy_intro.html) "
   ]
  },
  {
   "cell_type": "code",
   "execution_count": 14,
   "metadata": {},
   "outputs": [],
   "source": [
    "from sympy import *"
   ]
  },
  {
   "cell_type": "markdown",
   "metadata": {},
   "source": [
    "## Jones矢量\n",
    "\n",
    "定义常见的Jones矢量, \n",
    "\n",
    "参考定义一定要说清楚, 不然不同书里不一样, 特麻烦, 本文的参考定义来自:\n",
    "\n",
    "* Chipman, R. A., Lam, W., Young, G. (2019). Polarized Light and Optical Systems. Boca Raton: CRC Press, https://doi.org/10.1201/9781351129121"
   ]
  },
  {
   "cell_type": "code",
   "execution_count": 15,
   "metadata": {},
   "outputs": [],
   "source": [
    "def jones_vector(dictname):\n",
    "    vector={\n",
    "        'linear polarized light' : Matrix([1,0]),\n",
    "        'θ linear polarized light': Matrix([cos(θ), sin(θ)]),\n",
    "        'right-hand circularly polarized light': Matrix([1/sqrt(2), -I/sqrt(2)]), # (2.35)\n",
    "        'left-hand circularly polarized light': Matrix([1/sqrt(2), +I/sqrt(2)]), # (2.36)\n",
    "    } \n",
    "    return vector[dictname]"
   ]
  },
  {
   "cell_type": "markdown",
   "metadata": {},
   "source": [
    "例如, \n",
    "* 光矢量沿x轴的线偏振光 \n",
    "* 光矢量与x轴π/4的线偏振光 \n",
    "* 右旋圆偏振光 "
   ]
  },
  {
   "cell_type": "code",
   "execution_count": 16,
   "metadata": {},
   "outputs": [
    {
     "name": "stdout",
     "output_type": "stream",
     "text": [
      "光矢量沿x轴的线偏振光:\n",
      "⎡1⎤\n",
      "⎢ ⎥\n",
      "⎣0⎦\n",
      "\n",
      "光矢量与x轴π/4的线偏振光:\n",
      "⎡√2⎤\n",
      "⎢──⎥\n",
      "⎢2 ⎥\n",
      "⎢  ⎥\n",
      "⎢√2⎥\n",
      "⎢──⎥\n",
      "⎣2 ⎦\n",
      "\n",
      "右旋圆偏振光:\n",
      "⎡  √2  ⎤\n",
      "⎢  ──  ⎥\n",
      "⎢  2   ⎥\n",
      "⎢      ⎥\n",
      "⎢-√2⋅ⅈ ⎥\n",
      "⎢──────⎥\n",
      "⎣  2   ⎦\n",
      "\n"
     ]
    }
   ],
   "source": [
    "θ=symbols('θ')\n",
    "print('光矢量沿x轴的线偏振光:')\n",
    "pprint(jones_vector('linear polarized light'))\n",
    "print()\n",
    "\n",
    "print('光矢量与x轴π/4的线偏振光:')\n",
    "pprint(jones_vector('θ linear polarized light').subs(θ, pi/4))\n",
    "print()\n",
    "\n",
    "print('右旋圆偏振光:')\n",
    "pprint(jones_vector('right-hand circularly polarized light'))\n",
    "print()\n"
   ]
  },
  {
   "cell_type": "markdown",
   "metadata": {},
   "source": [
    "## Jones矩阵\n",
    "\n",
    "定义常见偏振器件的Jones矩阵, \n",
    "\n",
    "参考定义来自:\n",
    "\n",
    "* Chipman, R. A., Lam, W., Young, G. (2019). Polarized Light and Optical Systems. Boca Raton: CRC Press, https://doi.org/10.1201/9781351129121\n",
    "\n",
    "其中快轴(或透光轴)位于x轴方向. 采用线性Retarder对快轴保持不变的形式. 此处用力吐槽一下, 如前所见, 偏振光用二元向量描述快轴和慢轴, 偏振元件也就是改变这两的属性, 对于旋转的, 类似于调时钟的时针和分针, 也许目的只是让两者之间张开90度, 那么: \n",
    "\n",
    "* 可以保持快轴不变, 转慢轴, \n",
    "* 也可以保持慢轴不变转快轴, \n",
    "* 还可以中间选个平均位置不变, 一边转快轴, 一边转慢轴\n",
    "\n",
    "这三种都可以, 得到的转换矩阵形式上是不同的, 当然互相之间可以再转换. 但是一本书一定要写清楚, 而且要保持一致才好, 否则在看例题的时候就可能陷入混乱. 我开始看一本中文书、一本英文书, 都没说自己用了哪种定义, 中文书里还前后标准不一致, 害得我查了半天程序, 又查第三本书."
   ]
  },
  {
   "cell_type": "code",
   "execution_count": 17,
   "metadata": {},
   "outputs": [],
   "source": [
    "def basic_jones(dictname):\n",
    "    ϕ , δ=symbols('ϕ δ')\n",
    "    # Table 5.3 Polarizer Jones Matrices\n",
    "    jones_dict={\n",
    "#         Polarizer Jones Matrices\n",
    "        'polarizer' : [1,0,0,0], \n",
    "        'right circular polarizer': [1/2 * 1, 1/2 * I, 1/2 * (-I), 1/2 * 1],\n",
    "        'left circular polarizer' : [1/2 * 1, 1/2 * (-I), 1/2 * (I), 1/2 * 1],\n",
    "        \n",
    "#         Linear Retarder Jones Matrices\n",
    "#         Fast axis unchanged convention, \n",
    "#         delays the phase of the slow eigenpolarization, \n",
    "#         leaving the fast eigenpolarization’s phase unchanged\n",
    "        'linear retarder': [1,0,0,exp(I*δ)],\n",
    "        'quarter wave plate': [1,0,0,I],\n",
    "        'right circular QWRCR': [1/2* (1+I), 1/2* (1+I), 1/2* (-1-I), 1/2* (1+I) ],\n",
    "        'left circular QWLCR': [1/2* (1+I), 1/2* (-1-I), 1/2* (1+I), 1/2* (1+I)],\n",
    "        \n",
    "        'half wave plate': [1,0,0,-1],\n",
    "        'right circular CR': [0,I,-I,0],\n",
    "        'left circular LR': [0,-I,I,0],\n",
    "        \n",
    "#         查不到反射镜的Jones矩阵\n",
    "#         反射过程似乎不这么简单, 但如果是垂直入射, 类比于声波可能就原路返回,\n",
    "        'mirror': [-1,0,0,-1], \n",
    "        \n",
    "    }\n",
    "    a,b,c,d=jones_dict[dictname]\n",
    "    return Matrix([[a,b],[c,d]])"
   ]
  },
  {
   "cell_type": "markdown",
   "metadata": {},
   "source": [
    "当快轴与x轴有一定角度时, 使用旋转坐标系的方式计算出具有角度的偏振器件Jones矩阵."
   ]
  },
  {
   "cell_type": "code",
   "execution_count": 18,
   "metadata": {},
   "outputs": [],
   "source": [
    "def rotate_jones(dictname, x=0):\n",
    "    R=Matrix([[cos(x), -sin(x)],[sin(x),cos(x)]])\n",
    "    R_inv=Matrix([[cos(x), sin(x)],[-sin(x),cos(x)]])\n",
    "    return R*basic_jones(dictname)*R_inv"
   ]
  },
  {
   "cell_type": "markdown",
   "metadata": {},
   "source": [
    "例如: \n",
    "* 水平线性偏振器\n",
    "* 垂直线性偏振器\n",
    "* 135度线性偏振器\n",
    "* 45度1/4波片\n",
    "* 135度半波片"
   ]
  },
  {
   "cell_type": "code",
   "execution_count": 19,
   "metadata": {},
   "outputs": [
    {
     "name": "stdout",
     "output_type": "stream",
     "text": [
      "Horizontal linear polarizer HLP, L(0°):\n",
      "⎡1  0⎤\n",
      "⎢    ⎥\n",
      "⎣0  0⎦\n",
      "\n",
      "Vertical linear polarizer VLP:\n",
      "⎡0  0⎤\n",
      "⎢    ⎥\n",
      "⎣0  1⎦\n",
      "\n",
      "135° Linear polarizer L(135°):\n",
      "⎡1/2   -1/2⎤\n",
      "⎢          ⎥\n",
      "⎣-1/2  1/2 ⎦\n",
      "\n",
      "45° Quarter Wave LR (π/2, 45°)\n",
      "⎡1   ⅈ  1   ⅈ⎤\n",
      "⎢─ + ─  ─ - ─⎥\n",
      "⎢2   2  2   2⎥\n",
      "⎢            ⎥\n",
      "⎢1   ⅈ  1   ⅈ⎥\n",
      "⎢─ - ─  ─ + ─⎥\n",
      "⎣2   2  2   2⎦\n",
      "\n",
      "135° Half Wave LR (π, 135°)\n",
      "⎡0   -1⎤\n",
      "⎢      ⎥\n",
      "⎣-1  0 ⎦\n",
      "\n"
     ]
    }
   ],
   "source": [
    "θ, ϕ = symbols('θ ϕ')\n",
    "print('Horizontal linear polarizer HLP, L(0°):')\n",
    "pprint(rotate_jones('polarizer'))\n",
    "print()\n",
    "\n",
    "print('Vertical linear polarizer VLP:')\n",
    "pprint(rotate_jones('polarizer' ,pi/2))\n",
    "print()\n",
    "\n",
    "print('135° Linear polarizer L(135°):')\n",
    "pprint(rotate_jones('polarizer' ,pi/4*3))\n",
    "print()\n",
    "\n",
    "print('45° Quarter Wave LR (π/2, 45°)')\n",
    "pprint(rotate_jones('quarter wave plate', pi/4))\n",
    "print()\n",
    "\n",
    "print('135° Half Wave LR (π, 135°)')\n",
    "pprint(rotate_jones('half wave plate', pi/4*3))\n",
    "print()"
   ]
  },
  {
   "cell_type": "markdown",
   "metadata": {},
   "source": [
    "# Pancake 光路\n",
    "\n",
    "![](https://i.loli.net/2020/07/01/jEaQNwtJFv2MspS.png)"
   ]
  },
  {
   "cell_type": "markdown",
   "metadata": {},
   "source": [
    "不失一般性, 设Display Panel发出水平线性偏振光."
   ]
  },
  {
   "cell_type": "code",
   "execution_count": 20,
   "metadata": {},
   "outputs": [
    {
     "name": "stdout",
     "output_type": "stream",
     "text": [
      "⎡1⎤\n",
      "⎢ ⎥\n",
      "⎣0⎦\n"
     ]
    }
   ],
   "source": [
    "light=jones_vector('linear polarized light')\n",
    "pprint(light)"
   ]
  },
  {
   "cell_type": "markdown",
   "metadata": {},
   "source": [
    "## 第一次光程\n",
    "\n",
    "分别穿过如下光学器件:\n",
    "* right circular polarizer\n",
    "* beam splitter, 假设偏振性不变\n",
    "* quarter wave plate \n",
    "\n",
    "到达reflective polarizer"
   ]
  },
  {
   "cell_type": "markdown",
   "metadata": {},
   "source": [
    "### 穿过right circular polarizer\n",
    "\n",
    "由水平线性偏振光变成了右旋圆偏振光"
   ]
  },
  {
   "cell_type": "code",
   "execution_count": 21,
   "metadata": {},
   "outputs": [
    {
     "name": "stdout",
     "output_type": "stream",
     "text": [
      "⎡ 0.5  ⎤\n",
      "⎢      ⎥\n",
      "⎣-0.5⋅ⅈ⎦\n"
     ]
    }
   ],
   "source": [
    "light=rotate_jones('right circular polarizer') * light\n",
    "pprint(light)"
   ]
  },
  {
   "cell_type": "markdown",
   "metadata": {},
   "source": [
    "### 穿过beam splitter, \n",
    "假设偏振性不变, 仍然是右旋圆偏振光\n",
    "### 穿过quarter wave plate\n",
    "从右旋圆偏振光变成与x轴45度的线性偏振光"
   ]
  },
  {
   "cell_type": "code",
   "execution_count": 22,
   "metadata": {},
   "outputs": [
    {
     "name": "stdout",
     "output_type": "stream",
     "text": [
      "⎡0.5⎤\n",
      "⎢   ⎥\n",
      "⎣0.5⎦\n"
     ]
    }
   ],
   "source": [
    "light=rotate_jones('quarter wave plate') * light\n",
    "pprint(light)"
   ]
  },
  {
   "cell_type": "markdown",
   "metadata": {},
   "source": [
    "### 到达reflective polarizer\n",
    "\n",
    "视reflective polarizer为polarizer与镜面的结合, 如果reflective polarizer发生反射, 说明reflective polarizer与光线的偏振方向垂直, 所以reflective polarizer应该是135度的线性偏振器, 两者垂直, 那么光线应该无法穿过该偏振器, 也就是乘出来为0向量"
   ]
  },
  {
   "cell_type": "code",
   "execution_count": 23,
   "metadata": {},
   "outputs": [
    {
     "name": "stdout",
     "output_type": "stream",
     "text": [
      "⎡0⎤\n",
      "⎢ ⎥\n",
      "⎣0⎦\n"
     ]
    }
   ],
   "source": [
    "reflective_polarizer = rotate_jones('polarizer', pi/4*3)\n",
    "pprint(reflective_polarizer * light )"
   ]
  },
  {
   "cell_type": "markdown",
   "metadata": {},
   "source": [
    "## 第二次光程\n",
    "\n",
    "* 经过reflective polarizer的反射, 不妨假定是垂直入射的镜面反射\n",
    "* 通过quarter wave plate\n",
    "\n",
    "到达beam splitter"
   ]
  },
  {
   "cell_type": "markdown",
   "metadata": {},
   "source": [
    "### 在reflective polarizer上反射\n",
    "\n",
    "从x轴45度的线性偏振光仍然变成线性偏振光, 按说方向是相反的, 但我也不知道正确的镜面Jones矩阵应该怎么写, 姑且认为是线性偏振光原路返回"
   ]
  },
  {
   "cell_type": "code",
   "execution_count": 24,
   "metadata": {},
   "outputs": [
    {
     "name": "stdout",
     "output_type": "stream",
     "text": [
      "⎡-0.5⎤\n",
      "⎢    ⎥\n",
      "⎣-0.5⎦\n"
     ]
    }
   ],
   "source": [
    "light = rotate_jones('mirror')*light\n",
    "pprint(light)"
   ]
  },
  {
   "cell_type": "markdown",
   "metadata": {},
   "source": [
    "### 第二次通过quarter wave plate\n",
    "从线性偏振光变成了左旋圆偏振光"
   ]
  },
  {
   "cell_type": "code",
   "execution_count": 25,
   "metadata": {},
   "outputs": [
    {
     "name": "stdout",
     "output_type": "stream",
     "text": [
      "⎡ -0.5 ⎤\n",
      "⎢      ⎥\n",
      "⎣-0.5⋅ⅈ⎦\n"
     ]
    }
   ],
   "source": [
    "light=rotate_jones('quarter wave plate') * light\n",
    "pprint(light)"
   ]
  },
  {
   "cell_type": "markdown",
   "metadata": {},
   "source": [
    "## 第三次光程\n",
    "\n",
    "* 经过beam splitter的反射, 不妨假定是垂直入射的镜面反射\n",
    "* 经过quarter wave plate\n",
    "\n",
    "到达reflective polarizer"
   ]
  },
  {
   "cell_type": "markdown",
   "metadata": {},
   "source": [
    "### 在beam splitter上反射\n",
    "\n",
    "继续是左旋圆偏振光, 注意, 这时候与第一次光程时的旋转方向相反了"
   ]
  },
  {
   "cell_type": "code",
   "execution_count": 26,
   "metadata": {},
   "outputs": [
    {
     "name": "stdout",
     "output_type": "stream",
     "text": [
      "⎡ 0.5 ⎤\n",
      "⎢     ⎥\n",
      "⎣0.5⋅ⅈ⎦\n"
     ]
    }
   ],
   "source": [
    "light = rotate_jones('mirror')*light\n",
    "pprint(light)"
   ]
  },
  {
   "cell_type": "markdown",
   "metadata": {},
   "source": [
    "### 第三次通过quarter wave plate\n",
    "从左旋圆偏振光变成了135度线性偏振光"
   ]
  },
  {
   "cell_type": "code",
   "execution_count": 27,
   "metadata": {},
   "outputs": [
    {
     "name": "stdout",
     "output_type": "stream",
     "text": [
      "⎡0.5 ⎤\n",
      "⎢    ⎥\n",
      "⎣-0.5⎦\n"
     ]
    }
   ],
   "source": [
    "light=rotate_jones('quarter wave plate') * light\n",
    "pprint(light)"
   ]
  },
  {
   "cell_type": "markdown",
   "metadata": {},
   "source": [
    "### 抵达reflective polarizer\n",
    "\n",
    "验证一下此时能否穿过reflective polarizer, 如果可以通过, 应该跟之前一致"
   ]
  },
  {
   "cell_type": "code",
   "execution_count": 28,
   "metadata": {},
   "outputs": [
    {
     "name": "stdout",
     "output_type": "stream",
     "text": [
      "⎡0.5 ⎤\n",
      "⎢    ⎥\n",
      "⎣-0.5⎦\n"
     ]
    }
   ],
   "source": [
    "pprint(reflective_polarizer * light )"
   ]
  },
  {
   "cell_type": "markdown",
   "metadata": {},
   "source": [
    "Q.E.D"
   ]
  }
 ],
 "metadata": {
  "kernelspec": {
   "display_name": "Python 3",
   "language": "python",
   "name": "python3"
  },
  "language_info": {
   "codemirror_mode": {
    "name": "ipython",
    "version": 3
   },
   "file_extension": ".py",
   "mimetype": "text/x-python",
   "name": "python",
   "nbconvert_exporter": "python",
   "pygments_lexer": "ipython3",
   "version": "3.8.3"
  },
  "nikola": {
   "category": "",
   "date": "2020-07-1 18:30 UTC+08:00",
   "description": "",
   "link": "",
   "slug": "pancake-optics",
   "tags": "python",
   "title": "Pancake光路",
   "type": "text"
  },
  "toc": {
   "colors": {
    "hover_highlight": "#DAA520",
    "navigate_num": "#000000",
    "navigate_text": "#333333",
    "running_highlight": "#FF0000",
    "selected_highlight": "#FFD700",
    "sidebar_border": "#EEEEEE",
    "wrapper_background": "#FFFFFF"
   },
   "moveMenuLeft": true,
   "nav_menu": {
    "height": "58px",
    "width": "254px"
   },
   "navigate_menu": true,
   "number_sections": true,
   "sideBar": true,
   "threshold": 4,
   "toc_cell": false,
   "toc_section_display": "block",
   "toc_window_display": false,
   "widenNotebook": false
  }
 },
 "nbformat": 4,
 "nbformat_minor": 4
}
