{
 "cells": [
  {
   "cell_type": "markdown",
   "metadata": {},
   "source": [
    "[Applied Machine Learning in Python](https://www.coursera.org/learn/python-machine-learning)\n",
    "\n",
    "这门课实在是太差了. 严重差评: \n",
    "* 本身讲得就很差, 还经常口误\n",
    "* 不写板书, 对着ppt念\n",
    "* 代码写得也混乱, 在函数内部用import? ? \n",
    "* 交作业的时候要手动注释掉matplotlib\n",
    "* 考试填空题是给出函数的运行结果\n"
   ]
  },
  {
   "cell_type": "markdown",
   "metadata": {},
   "source": [
    "我上大学时上毛泽东思想概论和邓小平理论的课听着都比这舒坦. \n",
    "\n",
    "作为报复, 我决定把第三周的ppt给丫翻译了!<!-- TEASER_END -->"
   ]
  },
  {
   "cell_type": "markdown",
   "metadata": {},
   "source": [
    "# 评估\n",
    "\n",
    "* 不同的应用可能有非常不同的目标\n",
    "* Accuracy虽然广泛使用, 但其他的评估指标也可能使用. 例如:\n",
    "  * 用户满意度 (网络搜索)\n",
    "  * 收入(电子贸易)\n",
    "  * 病人生存率的提高(医疗)"
   ]
  },
  {
   "cell_type": "markdown",
   "metadata": {},
   "source": [
    "# 不平衡分类中的Accuracy\n",
    "\n",
    "* 假设有两个分类: \n",
    "  * 相关(R): 阳性分类结果\n",
    "  * 不相关(N): 阴性分类结果\n",
    "* 随机选择1000个样本, 平均而言: Out of 1000 randomly selected items, on average\n",
    "  * 1个R\n",
    "  * 999个N\n",
    "\n",
    "$$\n",
    "Accuracy = \\frac{正确预测的数量}{总量}\n",
    "$$\n",
    "\n",
    "你建了一个分类器, 在test set上测试后发现accuracy=99.9%\n",
    "\n",
    "* Wow! Amazingly good! 是不是? \n",
    "* 为了比较, 假定我们有一个\"dummy\"分类器, 就是个假分类器, 不管输入是什么, 都预测是最多频率的类别, 比如N\n",
    "\n",
    "那么\n",
    "$$\n",
    "Accuracy_{DUMMY} = \\frac{999}{1000}=99.9\\%\n",
    "$$"
   ]
  },
  {
   "cell_type": "markdown",
   "metadata": {},
   "source": [
    "# Dummy分类器完全忽略输入数据\n",
    "\n",
    "* scikit-learn中常用的DummyClassifier类型: \n",
    "  * most_frequent: 预测值是出现频率最高的类别\n",
    "  * stratified : 根据训练集中的频率分布给出随机预测\n",
    "  * uniform: 使用等可能概率给出随机预测\n",
    "  * constant: 根据用户的要求, 给出常数预测. \n",
    "* 这个方法的主要动机是F1-scoring, 当阳性分类很少的情况. "
   ]
  },
  {
   "cell_type": "markdown",
   "metadata": {},
   "source": [
    "如果你的模型预测结果跟Dummy差不多: \n",
    "\n",
    "* 功能无效，错误或缺失\n",
    "* 内核或超参数选择不当\n",
    "* 分类失衡, 有的类别太多"
   ]
  },
  {
   "cell_type": "markdown",
   "metadata": {},
   "source": [
    "# 重点重点: Binary prediction outcomes\n",
    "\n",
    "||预测为(-)|预测为(+)|\n",
    "|:--|:--|:--|\n",
    "|实际为(-)|TN|FP|\n",
    "|实际为(+)|FN|TP|\n",
    "\n",
    "* TP = true positive 真阳性\n",
    "* FP = false positive (Type I error) 假阳性(Type I错误) , 印象里就是P<0.05的0.05\n",
    "* TN = true negative 真阴性\n",
    "* FN = false negative (Type II error)假阴性(Type II错误)\n",
    "\n",
    "上面的矩阵叫做: Confusion-Matrix"
   ]
  },
  {
   "cell_type": "markdown",
   "metadata": {},
   "source": [
    "* Accuracy: 分类正确的概率. 实际为(-)预测为(-), 实际为(+)预测为(+)叫做正确. \n",
    "$$\n",
    "Accuracy=\\frac{TP + TN}{TP + TN + FP + FN}\n",
    "$$\n",
    "\n",
    "* Classification error: (1-Accuracy), 分类错误的概率\n",
    "$$\n",
    "Classification\\;  error=\\frac{FP + FN}{TP + TN + FP + FN}\n",
    "$$\n",
    "\n",
    "* Recall, 真阳性率: 实际上为(+), 能够被预测成(+)的概率\n",
    "    * Recall又叫 \n",
    "    * True Positive Rate (TPR): 真阳性率\n",
    "    * Sensitivity: 敏感性\n",
    "    * Probability of detection: 检出率\n",
    "$$\n",
    "Recall=\\frac{TP}{TP+FN}\n",
    "$$\n",
    "\n",
    "* Precision: 如果预测为(+), 那么预测正确的概率\n",
    "$$\n",
    "Precision=\\frac{TP}{TP+FP}\n",
    "$$\n",
    "\n",
    "* False positive rate (FPR): 假阳性率, 误报率. 本来实际上是(-)的, 结果分类器报告成(+)的概率\n",
    "  * 又叫做: Specificity, 特异性\n",
    "$$\n",
    "False positive rate=\\frac{FP}{TN+FP}\n",
    "$$\n",
    "\n"
   ]
  },
  {
   "cell_type": "markdown",
   "metadata": {},
   "source": [
    "## 高precision, 低recall\n",
    "![high precision.png](https://i.loli.net/2018/03/31/5abf84bf4da95.png)\n",
    "无罪推定, 抓到的坏人都是有罪的, 但也可能有很多漏网了. \n",
    "\n",
    "## 高recall, 低precision\n",
    "![high recall.png](https://i.loli.net/2018/03/31/5abf84c2c0a78.png)\n",
    "宁肯错杀一千, 不可放走一个. \n"
   ]
  },
  {
   "cell_type": "markdown",
   "metadata": {},
   "source": [
    "# precision与recall的折衷\n",
    "\n",
    "* Recall指导的机器学习任务: \n",
    "    * 法律搜索和法律信息提取\n",
    "    * 肿瘤检测Tumor detection\n",
    "    * 通常配备人类专家剔除假阳性\n",
    "    \n",
    "* Precision指导的机器学习任务\n",
    "    * 搜索引擎排序, 搜索建议\n",
    "    * 文档分类\n",
    "    * 很多面向用户的任务(因为用户记住错误!)"
   ]
  },
  {
   "cell_type": "markdown",
   "metadata": {},
   "source": [
    "## F1-score: 结合precision与recall\n",
    "\n",
    "$$\n",
    "F_1=2\\frac{precision \\times recall}{precision+recall}=\\frac{2TP}{2TP+FN+FP}\n",
    "$$\n",
    "\n",
    "## F-score: 更一般地将precision与recall结合成单独一个数\n",
    "\n",
    "$$\n",
    "F_\\beta=(1+\\beta^2)\\frac{precision \\times recall}{\\beta^2\\times precision+recall}=\\frac{(1+\\beta^2)TP}{(1+\\beta^2)TP+FN+FP}\n",
    "$$\n",
    "\n",
    "𝛽用来调整recall vs precision之间的重要程度: \n",
    "\n",
    "* Precision-oriented users: 𝜷 = 0.5 \n",
    "* Recall-oriented users: 𝜷 = 2"
   ]
  },
  {
   "cell_type": "code",
   "execution_count": 6,
   "metadata": {},
   "outputs": [],
   "source": [
    "def compute_scores(TP,TN,FP,FN):\n",
    "    # Accuracy = TP + TN / (TP + TN + FP + FN)\n",
    "    # Precision = TP / (TP + FP)\n",
    "    # Recall = TP / (TP + FN)  Also known as sensitivity, or True Positive Rate\n",
    "    # F1 = 2 * Precision * Recall / (Precision + Recall) \n",
    "    scores_dict={}\n",
    "    scores_dict[\"Accuracy\"] = (TP + TN) / (TP + TN + FP + FN)\n",
    "    scores_dict[\"Precision\"] = TP / (TP + FP)\n",
    "    scores_dict[\"Recall\"] = TP / (TP + FN)  # Also known as sensitivity, or True Positive Rate\n",
    "    scores_dict[\"F1\"] = 2 * scores_dict[\"Precision\"] * scores_dict[\"Recall\"] / (scores_dict[\"Precision\"] + scores_dict[\"Recall\"]) \n",
    "    \n",
    "    return scores_dict"
   ]
  },
  {
   "cell_type": "code",
   "execution_count": 5,
   "metadata": {},
   "outputs": [
    {
     "data": {
      "text/plain": [
       "{'Accuracy': 0.905511811023622,\n",
       " 'F1': 0.9411764705882353,\n",
       " 'Precision': 0.9230769230769231,\n",
       " 'Recall': 0.96}"
      ]
     },
     "execution_count": 5,
     "metadata": {},
     "output_type": "execute_result"
    }
   ],
   "source": [
    "c_matrix={\"TN\":19,\"FP\":8, \n",
    "          \"FN\":4, \"TP\":96}\n",
    "compute_scores(96,19,8,4)"
   ]
  },
  {
   "cell_type": "markdown",
   "metadata": {},
   "source": [
    "# 未完待续"
   ]
  },
  {
   "cell_type": "code",
   "execution_count": null,
   "metadata": {},
   "outputs": [],
   "source": []
  }
 ],
 "metadata": {
  "kernelspec": {
   "display_name": "Python 3",
   "language": "python",
   "name": "python3"
  },
  "language_info": {
   "codemirror_mode": {
    "name": "ipython",
    "version": 3
   },
   "file_extension": ".py",
   "mimetype": "text/x-python",
   "name": "python",
   "nbconvert_exporter": "python",
   "pygments_lexer": "ipython3",
   "version": "3.6.10"
  },
  "nikola": {
   "category": "",
   "date": "2018-03-31 20:30 UTC+08:00",
   "description": "",
   "link": "",
   "slug": "scikit-learn-note-2",
   "tags": "现代眼科医生知识扩展包, python",
   "title": "Scikit-learn笔记2",
   "type": "text"
  },
  "toc": {
   "colors": {
    "hover_highlight": "#DAA520",
    "navigate_num": "#000000",
    "navigate_text": "#333333",
    "running_highlight": "#FF0000",
    "selected_highlight": "#FFD700",
    "sidebar_border": "#EEEEEE",
    "wrapper_background": "#FFFFFF"
   },
   "moveMenuLeft": true,
   "nav_menu": {
    "height": "58px",
    "width": "254px"
   },
   "navigate_menu": true,
   "number_sections": true,
   "sideBar": true,
   "threshold": 4,
   "toc_cell": false,
   "toc_section_display": "block",
   "toc_window_display": false,
   "widenNotebook": false
  }
 },
 "nbformat": 4,
 "nbformat_minor": 4
}
