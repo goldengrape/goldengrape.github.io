{
 "cells": [
  {
   "cell_type": "markdown",
   "metadata": {},
   "source": [
    "第一门课第二周, 主要讲\n",
    "\n",
    "## 各种率\n",
    "\n",
    "* 真假阴阳各种率\n",
    "* 敏感性和特异性\n",
    "* 阳性预测率(PPV)和阴性预测率\n",
    "* 置信区间, ROC曲线, F1 score"
   ]
  },
  {
   "cell_type": "markdown",
   "metadata": {},
   "source": [
    "我之前学Scikit-learn的时候, 笔记记得挺清楚的.\n",
    "\n",
    "参考\n",
    "* [Scikit-learn笔记2](../../scikit-learn-note-2/)\n",
    "* [Scikit-learn笔记3](../../scikit-learn-note-3/)\n",
    "* [Scikit-learn笔记4](../../scikit-learn-note-4/)"
   ]
  },
  {
   "cell_type": "markdown",
   "metadata": {},
   "source": [
    "而且这张图做得很好, 一张图说明问题, 先看图, 再看后面的计算方式: \n",
    "\n",
    "![](/images/ratios.png)"
   ]
  },
  {
   "cell_type": "markdown",
   "metadata": {},
   "source": [
    "<table>\n",
    "    <thead>\n",
    "        <tr>\n",
    "            <th></th>\n",
    "            <th>预测=0</th>\n",
    "            <th>预测=1</th>\n",
    "            <th>预测=2</th>\n",
    "        </tr>\n",
    "    </thead>\n",
    "    <tbody>\n",
    "        <tr>\n",
    "            <td>The table body</td>\n",
    "            <td>with two columns</td>\n",
    "        </tr>\n",
    "    </tbody>\n",
    "</table>"
   ]
  },
  {
   "cell_type": "markdown",
   "metadata": {},
   "source": [
    "## 真假阴阳性\n",
    "\n",
    "||预测为(-)|预测为(+)|\n",
    "|:--|:--|:--|\n",
    "|实际为(-)|TN|FP|\n",
    "|实际为(+)|FN|TP|\n",
    "\n",
    "* TP = true positive 真阳性\n",
    "* FP = false positive (Type I error) 假阳性(Type I错误) , 印象里就是P<0.05的0.05\n",
    "* TN = true negative 真阴性\n",
    "* FN = false negative (Type II error)假阴性(Type II错误)"
   ]
  },
  {
   "cell_type": "markdown",
   "metadata": {},
   "source": [
    "## 敏感特异性\n",
    "\n",
    "* Accuracy: 分类正确的概率. 实际为(-)预测为(-), 实际为(+)预测为(+)叫做正确. \n",
    "$$\n",
    "Accuracy=\\frac{TP + TN}{TP + TN + FP + FN}\n",
    "$$\n",
    "\n",
    "* Classification error: (1-Accuracy), 分类错误的概率\n",
    "$$\n",
    "Classification\\;  error=\\frac{FP + FN}{TP + TN + FP + FN}\n",
    "$$\n",
    "\n",
    "* Recall, 真阳性率: 实际上为(+), 能够被预测成(+)的概率\n",
    "    * Recall又叫 \n",
    "    * True Positive Rate (TPR): 真阳性率\n",
    "    * Sensitivity: 敏感性\n",
    "    * Probability of detection: 检出率\n",
    "$$\n",
    "Recall=\\frac{TP}{TP+FN}\n",
    "$$\n",
    "\n",
    "* Precision: 如果预测为(+), 那么预测正确的概率\n",
    "$$\n",
    "Precision=\\frac{TP}{TP+FP}\n",
    "$$\n",
    "\n",
    "* False positive rate (FPR): 假阳性率, 误报率. 本来实际上是(-)的, 结果分类器报告成(+)的概率\n",
    "  \n",
    "$$\n",
    "False Positive Rate=\\frac{FP}{TN+FP}\n",
    "$$\n",
    "\n",
    "* Specificity, 特异性\n",
    "\n",
    "应该是真阴性率(之前写错了), TNR, 实际上为(-), 能够被测成(-)的概率\n",
    "$$\n",
    "Specificity=\\frac{TN}{TN+FN}\n",
    "$$"
   ]
  },
  {
   "cell_type": "markdown",
   "metadata": {},
   "source": [
    "## F1-score: 结合precision与recall\n",
    "\n",
    "$$\n",
    "F_1=2\\frac{precision \\times recall}{precision+recall}=\\frac{2TP}{2TP+FN+FP}\n",
    "$$\n",
    "\n",
    "## F-score: 更一般地将precision与recall结合成单独一个数\n",
    "\n",
    "$$\n",
    "F_\\beta=(1+\\beta^2)\\frac{precision \\times recall}{\\beta^2\\times precision+recall}=\\frac{(1+\\beta^2)TP}{(1+\\beta^2)TP+FN+FP}\n",
    "$$\n",
    "\n",
    "𝛽用来调整recall vs precision之间的重要程度: \n",
    "\n",
    "* Precision-oriented users: 𝜷 = 0.5 \n",
    "* Recall-oriented users: 𝜷 = 2"
   ]
  },
  {
   "cell_type": "markdown",
   "metadata": {},
   "source": [
    "## 阳性预测率 PPV\n",
    "\n",
    "实际上就是\n",
    "\n",
    "* Precision: 如果预测为(+), 那么预测正确的概率\n",
    "$$\n",
    "Precision=\\frac{TP}{TP+FP}\n",
    "$$"
   ]
  },
  {
   "cell_type": "markdown",
   "metadata": {},
   "source": [
    "$$ \n",
    "PPV = Precision = \\frac{sensitivity \\times prevalence}{sensitivity  \\times  prevalence+(1 - specificity) \\times (1 - prevalence)}\n",
    "$$\n",
    "\n",
    "其中 prevalence=P(pos), 阳性结果的发生率. 如果自己都知道TP、FP的数据, 当然用简单的公式计算, 如果拿到的是一个标记好各种率的试剂盒, 或者是看一篇新闻报道, 对方把各种率搅合在一起, 那么可能就要通过后一种公式来计算"
   ]
  },
  {
   "cell_type": "markdown",
   "metadata": {},
   "source": [
    "## 置信区间\n",
    "\n",
    "比如某个概率p=0.80(95% CI 0.78, 0.82), \n",
    "\n",
    "是说, 真实的概率p, 谁知道是啥, 有95%的概率, 会落在[0.78, 0.82]的范围内. 置信区间的范围和样本量有关, 样本量越大, 置信区间的宽度越窄. "
   ]
  },
  {
   "cell_type": "markdown",
   "metadata": {},
   "source": [
    "## ROC曲线\n",
    "\n",
    "* X轴: False Positive Rate 假阳性率\n",
    "* Y轴: True Positive Rate  真阳性率\n",
    "\n",
    "\n",
    "左上顶点:\n",
    "* 理想点\n",
    "* False positive rate 假阳性率=0 \n",
    "* True positive rate 真阳性率=1\n",
    "\n",
    "![ROC.png](https://i.loli.net/2018/04/01/5ac0c250b9182.png)\n",
    "\n",
    "* ROC曲线越往左上, 越好. \n",
    "* 曲线下面积(AUC), 越大越好\n",
    "* 45度线是随机瞎猜线\n",
    "\n",
    "![ROC-2.png](https://i.loli.net/2018/04/01/5ac0c511e280e.png)"
   ]
  }
 ],
 "metadata": {
  "kernelspec": {
   "display_name": "Python 3",
   "language": "python",
   "name": "python3"
  },
  "language_info": {
   "codemirror_mode": {
    "name": "ipython",
    "version": 3
   },
   "file_extension": ".py",
   "mimetype": "text/x-python",
   "name": "python",
   "nbconvert_exporter": "python",
   "pygments_lexer": "ipython3",
   "version": "3.6.10"
  },
  "nikola": {
   "category": "",
   "date": "2020-5-11 10:00 UTC+08:00",
   "description": "",
   "link": "",
   "slug": "AI4med_note_1_2",
   "tags": "python",
   "title": "AI 4 Med 笔记(1.2)各种率",
   "type": "text"
  }
 },
 "nbformat": 4,
 "nbformat_minor": 4
}
